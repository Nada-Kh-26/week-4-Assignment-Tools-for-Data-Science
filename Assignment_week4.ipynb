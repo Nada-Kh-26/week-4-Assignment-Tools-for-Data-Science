{
  "metadata": {
    "language_info": {
      "codemirror_mode": {
        "name": "python",
        "version": 3
      },
      "file_extension": ".py",
      "mimetype": "text/x-python",
      "name": "python",
      "nbconvert_exporter": "python",
      "pygments_lexer": "ipython3",
      "version": "3.8"
    },
    "kernelspec": {
      "name": "python",
      "display_name": "Pyolite",
      "language": "python"
    }
  },
  "nbformat_minor": 4,
  "nbformat": 4,
  "cells": [
    {
      "cell_type": "markdown",
      "source": "## \"My Jupyter Notebook on IBM Watson Studio\"\n\n",
      "metadata": {
        "tags": []
      }
    },
    {
      "cell_type": "markdown",
      "source": "__Nada__  \nData Scientist",
      "metadata": {}
    },
    {
      "cell_type": "markdown",
      "source": "*I'm a Statistician and I'm motivated by the challenge of finding new ways to use data to help businesses and organizations solve complex problems. That is why I'm interested in Data Science, the field that provides an opportunity to make a difference in the world.*",
      "metadata": {}
    },
    {
      "cell_type": "markdown",
      "source": "#### The code below calculates the sum of x and y",
      "metadata": {}
    },
    {
      "cell_type": "code",
      "source": "x=45\ny=6*x\nprint (x+y)",
      "metadata": {
        "trusted": true
      },
      "execution_count": 1,
      "outputs": [
        {
          "name": "stdout",
          "text": "315\n",
          "output_type": "stream"
        }
      ]
    },
    {
      "cell_type": "markdown",
      "source": "1. I'm \n1. very glad\n***\n1. to have \n1. you in \n   1. my\n   1. life\n***\n> \"it is very interesting to try this code\" \n***\n~~Remove this part~~\n",
      "metadata": {}
    }
  ]
}